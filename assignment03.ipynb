{
 "cells": [
  {
   "cell_type": "code",
   "execution_count": null,
   "id": "ae6ca0b8",
   "metadata": {},
   "outputs": [],
   "source": [
    "#1. Why are functions advantageous to have in your programs?\n",
    "\n",
    "#ANS-\n",
    "\n",
    " #Functions reduce the need for duplicate code,which helps to make programs shorter, easier to read, and easier to update.\n"
   ]
  },
  {
   "cell_type": "code",
   "execution_count": null,
   "id": "3cfa7972",
   "metadata": {},
   "outputs": [],
   "source": [
    "#2. When does the code in a function run: when it's specified or when it's called?\n",
    "\n",
    "#ANS\n",
    "\n",
    "#The code in a function executes when the function is called, not when the function is specified.\n"
   ]
  },
  {
   "cell_type": "code",
   "execution_count": null,
   "id": "6df516aa",
   "metadata": {},
   "outputs": [],
   "source": [
    "#3. What statement creates a function?\n",
    "\n",
    "#ANS\n",
    "\n",
    "#a)Function blocks begin with the keyword def followed by the function name and parentheses ( ( ) ).\n",
    "\n",
    "#b)Any input parameters or arguments should be placed within these parentheses. You can also define parameters inside these parentheses.\n",
    "\n",
    "#c)The first statement of a function can be an optional statement - the documentation string of the function or docstring.\n",
    "\n",
    "#d)The code block within every function starts with a colon (:) and is indented.\n",
    "\n",
    "#e)The statement return [expression] exits a function, optionally passing back an expression to the caller. A return statement with no arguments is the same as return None.\n",
    "\n",
    "#EXAMPLE:\n",
    "    \n",
    "def function( str ):\n",
    "   \"This prints a passed string into this function\"\n",
    "   print (str)\n",
    "   return"
   ]
  },
  {
   "cell_type": "code",
   "execution_count": null,
   "id": "861cd6f1",
   "metadata": {},
   "outputs": [],
   "source": [
    "#4. What is the difference between a function and a function call?\n",
    "\n",
    "#ANS\n",
    "\n",
    "#Using a function to do a particular task any point in program is called as function call. \n",
    "#So the difference between the function and function call is-\n",
    "#A function is procedure to achieve a particular result while function call is using this function to achive that task"
   ]
  },
  {
   "cell_type": "code",
   "execution_count": 2,
   "id": "6ec375bd",
   "metadata": {},
   "outputs": [
    {
     "name": "stdout",
     "output_type": "stream",
     "text": [
      "The Number is: 1\n"
     ]
    }
   ],
   "source": [
    "#5. How many global scopes are there in a Python program? How many local scopes?\n",
    "\n",
    "#ANS\n",
    "\n",
    "#LOCAL SCOPE-\n",
    "\n",
    "# The Variables which are defined in the function are a local scope of the variable. These variables are defined in the function body. Let’s understand this concept with the help of an example. \n",
    "#In this example, we have taken one variable num. Num = 0 is defined outside the function, so it is not a local variable. As per our definition, the variables which are declared inside the function body is a local variable.\n",
    "#Here num=1 is a local variable that is declared and printed inside the function demo. \n",
    "#If we run this code, the output is given below.\n",
    "\n",
    "num=0\n",
    "def demo():\n",
    "    num=1\n",
    "    print(\"The Number is:\",num)\n",
    "demo()\n",
    "\n",
    "\n"
   ]
  },
  {
   "cell_type": "code",
   "execution_count": 4,
   "id": "8f8674b2",
   "metadata": {},
   "outputs": [
    {
     "name": "stdout",
     "output_type": "stream",
     "text": [
      "You are clever\n"
     ]
    }
   ],
   "source": [
    "#GLOBAL SCOPE-\n",
    "#The Variable which can be read from anywhere in the program is known as a global scope. These variables can be accessed inside and outside the function. When we want to use the same variable in the rest of the program, we declare it as global.\n",
    "\n",
    "def demo():\n",
    "    print(Str)\n",
    "Str = \"You are clever\"\n",
    "demo()\n",
    "\n",
    "#In the following Example, we have declared a variable Str, which is outside the function. \n",
    "#The function demo is called, and it prints the value of variable Str. \n",
    "#To use a global variable inside a function, there is no need to use the global keyword.\n"
   ]
  },
  {
   "cell_type": "code",
   "execution_count": null,
   "id": "4f3ab813",
   "metadata": {},
   "outputs": [],
   "source": [
    "#6. What happens to variables in a local scope when the function call returns?\n",
    "\n",
    "#ANS-\n",
    "\n",
    "#A local variable retains its value until the next time the function is called A local variable becomes undefined after the function call completes The local variable can be used outside the function any time after the function call completes\n",
    "\n"
   ]
  },
  {
   "cell_type": "code",
   "execution_count": null,
   "id": "313d57ce",
   "metadata": {},
   "outputs": [],
   "source": [
    "#7. What is the concept of a return value? Is it possible to have a return value in an expression?\n",
    "\n",
    "#ANS-\n",
    "\n",
    "#The Python return statement is a special statement that you can use inside a function or method to send the function’s result back to the caller. A return statement consists of the return keyword followed by an optional return value.\n",
    "\n",
    "#The return value of a Python function can be any Python object. Everything in Python is an object. So, any functions can return numeric values (int, float, and complex values), collections and sequences of objects (list, tuple, dictionary, or set objects), user-defined objects, classes, functions, and even modules or packages"
   ]
  },
  {
   "cell_type": "code",
   "execution_count": 15,
   "id": "07d3828f",
   "metadata": {},
   "outputs": [],
   "source": [
    "#8. If a function does not have a return statement, what is the return value of a call to that function?\n",
    "\n",
    "#ANS-\n",
    "\n",
    "#If no return statement appears in a function definition, the control automatically returns to the calling function after the last statement of the called function is executed. \n",
    "#In this case, the return value of the called function is undefined\n",
    "\n",
    " \n"
   ]
  },
  {
   "cell_type": "code",
   "execution_count": 16,
   "id": "ca02525d",
   "metadata": {},
   "outputs": [
    {
     "name": "stdout",
     "output_type": "stream",
     "text": [
      "Python is fantastic\n"
     ]
    }
   ],
   "source": [
    "#9. How do you make a function variable refer to the global variable?\n",
    "\n",
    "#ANS\n",
    "#When one create a variable inside a function, that variable is local, and can only be used inside that function.\n",
    "\n",
    "#To create a global variable inside a function, one can use the global keyword.\n",
    "\n",
    " #Using the global keyword, the variable belongs to the global scope:\n",
    "    \n",
    "def myfunc():\n",
    "  global x\n",
    "  x = \"fantastic\"\n",
    "\n",
    "myfunc()\n",
    "\n",
    "print(\"Python is \" + x)    \n"
   ]
  },
  {
   "cell_type": "code",
   "execution_count": 17,
   "id": "cbc792a7",
   "metadata": {},
   "outputs": [
    {
     "name": "stdout",
     "output_type": "stream",
     "text": [
      "<class 'NoneType'>\n"
     ]
    }
   ],
   "source": [
    "#10. What is the data type of None?\n",
    "\n",
    "#ANS-\n",
    "\n",
    "#None is used to define a null value. It is not the same as an empty string, False, or a zero. It is a data type of the class NoneType object. \n",
    "\n",
    "#Assigning a value of None to a variable is one way to reset it to its original, empty state.\n",
    "\n",
    "# we will check the type of None\n",
    "\n",
    "print(type(None))\n",
    "\n"
   ]
  },
  {
   "cell_type": "code",
   "execution_count": null,
   "id": "88b20240",
   "metadata": {},
   "outputs": [],
   "source": [
    "#11. What does the sentence import areallyourpetsnamederic do?\n",
    "\n",
    "#ANS-\n",
    "\n",
    "#That import statement imports a module named areallyourpetsnamederic.\n",
    "\n"
   ]
  },
  {
   "cell_type": "code",
   "execution_count": null,
   "id": "bdd61451",
   "metadata": {},
   "outputs": [],
   "source": [
    "#12. If you had a bacon() feature in a spam module, what would you call it after importing spam?\n",
    "\n",
    "#ANS-\n",
    "\n",
    "#This function can be called with spam. bacon()."
   ]
  },
  {
   "cell_type": "code",
   "execution_count": 21,
   "id": "65ca6873",
   "metadata": {},
   "outputs": [
    {
     "name": "stdout",
     "output_type": "stream",
     "text": [
      "there is an issue with my code\n",
      "(4, 5, 6, 7, 7, 8, 9)\n"
     ]
    }
   ],
   "source": [
    "#13. What can you do to save a programme from crashing if it encounters an error?\n",
    "\n",
    "#ANS-\n",
    "\n",
    "#The try block lets you test a block of code for errors.\n",
    "\n",
    "#The except block lets you handle the error.\n",
    "\n",
    "#The else block lets you execute code when there is no error.\n",
    "\n",
    "#The finally block lets you execute code, regardless of the result of the try- and except blocks.\n",
    "\n",
    "#When an error occurs, or exception as we call it, Python will normally stop and generate an error message.\n",
    "\n",
    "#These exceptions can be handled using the try statement:\n",
    "\n",
    "#EXAMPLE-\n",
    "#The try block will generate an exception, because x is not defined:\n",
    "\n",
    "try:\n",
    "    l=[4,5,6,7,8,9]\n",
    "    l[100]\n",
    "except:\n",
    "    print('there is an issue with my code')\n",
    "    t=(4,5,6,7,7,8,9)\n",
    "    print(t)"
   ]
  },
  {
   "cell_type": "code",
   "execution_count": null,
   "id": "16e71fa5",
   "metadata": {},
   "outputs": [],
   "source": [
    "#14. What is the purpose of the try clause? What is the purpose of the except clause?\n",
    "\n",
    "#ANS-\n",
    "\n",
    "#The try block lets you test a block of code for errors. \n",
    "#The except block lets you handle the error. "
   ]
  }
 ],
 "metadata": {
  "kernelspec": {
   "display_name": "Python 3 (ipykernel)",
   "language": "python",
   "name": "python3"
  },
  "language_info": {
   "codemirror_mode": {
    "name": "ipython",
    "version": 3
   },
   "file_extension": ".py",
   "mimetype": "text/x-python",
   "name": "python",
   "nbconvert_exporter": "python",
   "pygments_lexer": "ipython3",
   "version": "3.9.7"
  }
 },
 "nbformat": 4,
 "nbformat_minor": 5
}
